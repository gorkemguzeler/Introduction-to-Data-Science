{
  "nbformat": 4,
  "nbformat_minor": 0,
  "metadata": {
    "colab": {
      "name": "guzeler_gorkem_hw1",
      "provenance": [],
      "collapsed_sections": []
    },
    "kernelspec": {
      "name": "python3",
      "display_name": "Python 3"
    }
  },
  "cells": [
    {
      "cell_type": "markdown",
      "metadata": {
        "id": "JD9gUM7WW8iT"
      },
      "source": [
        "# Homework 1: Strecthing Python Muscles\n",
        "\n",
        "\n",
        "*In the first homework, you are going to work on a set of Python exercises.*\n",
        "\n",
        "**Submission Instructions**\n",
        "\n",
        "---\n",
        "It is important that you follow the submission instructions. \n",
        "1. Copy this assignment notebook to your Drive. <font color = 'red'> `File` --> `Save a copy in Drive`</font>. Rename it as <font color = 'green'>`Lastname_Firstname_hw1`</font>.\n",
        "\n",
        "2. Write your solutions in the cells  marked <font color = 'green'>`# your code`</font>.\n",
        "\n",
        "3. Do not delete your outputs. They are essential for the grading. Make sure that cells containing your solutions are executed, and the results are displayed on the notebook.\n",
        "\n",
        "4. When you're done please submit your solutions as an <font color=\"red\">`.ipynb`</font> file. To do so:\n",
        "\n",
        "\n",
        "1.  Click on <font color=\"red\">`File`</font>  at the top left on the Colab screen, then click on <font color = 'red'>`Download .ipynb`</font>.\n",
        "2.   Then submit the downloaded <font color=\"red\">`.ipynb`</font> version of your work on SUCourse.\n",
        "\n",
        "\n",
        "For any question, you may send an email to the TAs and LAs.\n",
        "\n",
        "---"
      ]
    },
    {
      "cell_type": "markdown",
      "metadata": {
        "id": "wK0AhfSm417l"
      },
      "source": [
        "## Q1: Get to Know Your TAs\n",
        "\n",
        "In the cell below, you have three lists: names, surnames and mails. The information regarding your TAs are stored in these three separate lists. Moreover, the elements in the same index are associated to a particular TA. For instance, the elements at index 0 constitutes contact information for the first TA.\n",
        "\n",
        "- names[0] -> Rana Bengisu\n",
        "- surnames[0] -> Kalkan\n",
        "- mails[0] -> \"ranakalkan@sabanciuniv.edu\"\n",
        "\n",
        "Here, your goal is to print the contact information of each TA.\n",
        "\n",
        "Write a function named `print_TAs_info` that takes the given lists with the signature below, and then prints the contact information of each TA in the format below.\n",
        "\n",
        "*Hint: You may use the `zip` function.*\n",
        "\n",
        "```py\n",
        ">>> print_TAs_info(names,surnames,mails)\n",
        "Rana Bengisu Kalkan: ranakalkan@sabanciuniv.edu\n",
        "Büşra Öz: boz@sabanciuniv.edu\n",
        "Mert Gürkan: mertgurkan@sabanciuniv.edu\n",
        "Hasan Alp Boz: bozhasan@sabanciuniv.edu\n",
        "```"
      ]
    },
    {
      "cell_type": "code",
      "metadata": {
        "id": "e924Yp97oXsP"
      },
      "source": [
        "names = [\"Rana Bengisu\", \"Büşra\", \"Mert\", \"Hasan Alp\"]\n",
        "surnames = [\"Kalkan\", \"Öz\", \"Gürkan\", \"Boz\"]\n",
        "mails = [\"ranakalkan@sabanciuniv.edu\", \"boz@sabanciuniv.edu\", \"mertgurkan@sabanciuniv.edu\", \"bozhasan@sabanciuniv.edu\"]"
      ],
      "execution_count": null,
      "outputs": []
    },
    {
      "cell_type": "code",
      "metadata": {
        "id": "_fGJweWGfSxz",
        "outputId": "dd4c1dd7-2a83-4257-f417-ff38fc4c838f",
        "colab": {
          "base_uri": "https://localhost:8080/",
          "height": 82
        }
      },
      "source": [
        "def print_TAs_info(names,surnames,mails):\n",
        "  for name, surname, mail in zip(names , surnames, mails):\n",
        "    print(name, surname + \":\" , mail)\n",
        "\n",
        "print_TAs_info(names,surnames,mails)"
      ],
      "execution_count": null,
      "outputs": [
        {
          "output_type": "stream",
          "text": [
            "Rana Bengisu Kalkan: ranakalkan@sabanciuniv.edu\n",
            "Büşra Öz: boz@sabanciuniv.edu\n",
            "Mert Gürkan: mertgurkan@sabanciuniv.edu\n",
            "Hasan Alp Boz: bozhasan@sabanciuniv.edu\n"
          ],
          "name": "stdout"
        }
      ]
    },
    {
      "cell_type": "markdown",
      "metadata": {
        "id": "DwskSV1dAeoR"
      },
      "source": [
        "## Q2: Teaching Survey\n",
        "\n",
        "In a survey conducted by the student resources, each student was asked whether they think online or offline education is more effective. The student responses are recorded in a file named `teaching_survey.csv`. Each line contains the response of a particular student and contains her/his major alongside her answer separated by a comma.\n",
        "\n",
        "In total, we have 1020 students; 800 CS, 140 ME and 80 BIO students.\n",
        "\n",
        "![](https://i.ibb.co/p4JJq1h/ss.png)\n",
        "\n",
        "*Do not forget to add the shared file and then mount to your drive. Otherwise, you won't be able to read the file.*\n"
      ]
    },
    {
      "cell_type": "markdown",
      "metadata": {
        "id": "EJdIEenmj6W_"
      },
      "source": [
        "#### Part A\n",
        "\n",
        "Read the provided file and select 60 random student responses. Calculate the percentage of students in the sample that thinks online teaching is more effective.\n",
        "\n",
        "![](https://i.ibb.co/n0x1xFN/sample60.png)\n"
      ]
    },
    {
      "cell_type": "code",
      "metadata": {
        "id": "tbaryKClTz5Z",
        "outputId": "30c822f8-0716-4054-fb25-f7572038a3fb",
        "colab": {
          "base_uri": "https://localhost:8080/",
          "height": 32
        }
      },
      "source": [
        "from google.colab import drive\n",
        "drive.mount(\"./drive/\", force_remount=True)"
      ],
      "execution_count": null,
      "outputs": [
        {
          "output_type": "stream",
          "text": [
            "Mounted at ./drive/\n"
          ],
          "name": "stdout"
        }
      ]
    },
    {
      "cell_type": "code",
      "metadata": {
        "id": "zuiwcLt9Tzxh",
        "outputId": "517aa63f-6af3-485a-995f-efafcd88456b",
        "colab": {
          "base_uri": "https://localhost:8080/",
          "height": 32
        }
      },
      "source": [
        "import random\n",
        "import csv\n",
        "\n",
        "path = \"./drive/My Drive/Colab Notebooks/teaching_survey.csv\"\n",
        "\n",
        "count= 0\n",
        "\n",
        "with open(path, \"r\") as f: \n",
        "   \n",
        "  reader = csv.reader(f)\n",
        "  chosen_row = random.sample(list(reader), 60)\n",
        "    \n",
        "  for i in range(60): \n",
        "    if chosen_row[i][1] == \"online\" :\n",
        "      count = count + 1\n",
        "   \n",
        " \n",
        "print(count/60) "
      ],
      "execution_count": null,
      "outputs": [
        {
          "output_type": "stream",
          "text": [
            "0.43333333333333335\n"
          ],
          "name": "stdout"
        }
      ]
    },
    {
      "cell_type": "markdown",
      "metadata": {
        "id": "pIBUWMoXSSwr"
      },
      "source": [
        "#### Part B\n",
        "\n",
        "This time you will apply stratified sampling. Sample 20 student reponses  from each major (60 in total) and  then recalculate the percentage of students in the sample that thinks online teaching is more effective. Report this number. Do you see a diffference? Why is that? Do you think it is enough to draw a random sample once.\n",
        "\n",
        "\n",
        "\n",
        "![](https://i.ibb.co/6Fg0TtW/eqaul-Sample.png)"
      ]
    },
    {
      "cell_type": "code",
      "metadata": {
        "id": "laBFy2HkSXpC"
      },
      "source": [
        "cs_students= 0\n",
        "bio_students= 0\n",
        "me_students= 0\n",
        "\n",
        "cs_total = 0\n",
        "bio_total = 0\n",
        "me_total = 0\n",
        "\n",
        "found = \"false\"\n",
        "\n",
        "cs_done = \"false\"\n",
        "bio_done= \"false\"\n",
        "me_done = \"false\""
      ],
      "execution_count": null,
      "outputs": []
    },
    {
      "cell_type": "code",
      "metadata": {
        "id": "fsitVsQNRIMy",
        "outputId": "a3fb45a1-6506-47a9-d39f-79b7acb72a4c",
        "colab": {
          "base_uri": "https://localhost:8080/",
          "height": 82
        }
      },
      "source": [
        "while found != \"true\":\n",
        "\n",
        "  with open(join(path_prefix, fname), \"r\") as f:\n",
        " \n",
        "    reader = csv.reader(f)\n",
        "    chosen_row = random.sample(list(reader))\n",
        "    \n",
        "\n",
        "    if chosen_row[0] == \"CS\":\n",
        "      cs_total = cs_total+1 \n",
        "      if chosen_row[1] == \"online\" and cs_total <21 :\n",
        "        cs_students = cs_students + 1\n",
        "\n",
        "    \n",
        "    elif chosen_row[0]== \"BIO\" :\n",
        "      bio_total = bio_total+1\n",
        "      if chosen_row[1] == \"online\" and bio_total <21 :\n",
        "       bio_students = bio_students + 1   \n",
        "\n",
        "    \n",
        "    elif chosen_row[0]== \"ME\" :\n",
        "      me_total = me_total+1\n",
        "      if chosen_row[1] == \"online\"  and me_total <21 :\n",
        "        me_students = me_students + 1  \n",
        "\n",
        "    if cs_total > 19:\n",
        "      cs_done = \"true\"\n",
        "\n",
        "    if bio_total > 19:\n",
        "      bio_done = \"true\"\n",
        "\n",
        "    if me_total > 19:\n",
        "      me_done = \"true\"\n",
        "\n",
        "    if me_done == \"true\" and bio_done == \"true\" and cs_done == \"true\":\n",
        "      found = \"true\"\n",
        "\n",
        "\n",
        "print(\"Number of BIO students who preferred online:\",bio_students)\n",
        "print(\"Number of CS students who preferred online:\",cs_students)\n",
        "print(\"Number of ME students who preferred online:\",me_students)\n",
        "print(\"Average percentage:\" ,(bio_students + cs_students + me_students)/60)"
      ],
      "execution_count": null,
      "outputs": [
        {
          "output_type": "stream",
          "text": [
            "Number of BIO students who preferred online: 2\n",
            "Number of CS students who preferred online: 8\n",
            "Number of ME students who preferred online: 4\n",
            "Average percentage: 0.23333333333333334\n"
          ],
          "name": "stdout"
        }
      ]
    },
    {
      "cell_type": "markdown",
      "metadata": {
        "id": "HMa35yitTrzR"
      },
      "source": [
        "<font color=\"pink\">[Double Click to insert your comment]</font>\n",
        "I can see that almost half of the cs students preferred online classes whereas 10 percent of bio students and 20 percent of me students preferred online classes. I think this is related with students work area. CS students can easily adapt to online, however bio and me students need labs to work on their assignments and projects. \n",
        "\n",
        "####**In the first case, we had much more CS students compared to BIO and ME students in terms of ratio. Thus, the average percentage preferred online in the first case was two times of the second case since 20 students were selected from each department. I think, it is not enough to draw a random sample once since there might be misleading consequences.**"
      ]
    },
    {
      "cell_type": "markdown",
      "metadata": {
        "id": "srIzF7eJYUAW"
      },
      "source": [
        "## Q3: List Reshaping\n",
        "\n",
        "List/array reshaping is one of the most fundamental operations in data manipulation. In the figure below, you see a single dimensional (1D) list named `arr` that contains integers from 1 to 6. We can cast this 1D list into a matrix as well. \n",
        "\n",
        "![](https://cdn.discordapp.com/attachments/715265876810530846/764191117067026472/list_to_matrix2.png)\n",
        "\n",
        "By referencing the figure above, write a function named `list_to_matrix` which will take a single dimensional list and two integers representing the shape of the desired matrix. At the end, it should return the resulting matrix.\n",
        "\n",
        "If the given number of rows and columns are not compatible with the number of elements, then print a warning and return `None`.\n",
        "\n",
        "```py\n",
        ">>> arr = [i for i in range(30)]\n",
        ">>> list_to_matrix(arr, 5, 6)\n",
        "[[0, 1, 2, 3, 4, 5],\n",
        " [6, 7, 8, 9, 10, 11],\n",
        " [12, 13, 14, 15, 16, 17],\n",
        " [18, 19, 20, 21, 22, 23],\n",
        " [24, 25, 26, 27, 28, 29]]\n",
        "\n",
        ">>> list_to_matrix(arr, 5, 4)  # will give a warning\n",
        "                               # because we can't place 30 elements\n",
        "                               # in a 5x4 matrix\n",
        "\"Uncompatible Shapes\"\n",
        "```"
      ]
    },
    {
      "cell_type": "code",
      "metadata": {
        "id": "D1bJ0tKLHoJi",
        "outputId": "35649dd8-2f51-4f77-c383-28b0d3cc54d5",
        "colab": {
          "base_uri": "https://localhost:8080/",
          "height": 32
        }
      },
      "source": [
        "arr = [i for i in range(30)]\n",
        "\n",
        "newarr = []\n",
        "matrix = []\n",
        "\n",
        "def list_to_matrix(arr, a, b):\n",
        "  if len(arr) == a*b:    \n",
        "    for m in range(a):\n",
        "      for k in range(b):\n",
        "        newarr.append(arr[0])\n",
        "        arr.pop(0)\n",
        "      \n",
        "      matrix.append(list(newarr))\n",
        "      newarr.clear()\n",
        "      \n",
        "\n",
        "    print(matrix)\n",
        "\n",
        "  else:\n",
        "    return \"Uncompatible Shapes\"\n",
        "\n",
        "list_to_matrix(arr,5,6)"
      ],
      "execution_count": null,
      "outputs": [
        {
          "output_type": "stream",
          "text": [
            "[[0, 1, 2, 3, 4, 5], [6, 7, 8, 9, 10, 11], [12, 13, 14, 15, 16, 17], [18, 19, 20, 21, 22, 23], [24, 25, 26, 27, 28, 29]]\n"
          ],
          "name": "stdout"
        }
      ]
    },
    {
      "cell_type": "code",
      "metadata": {
        "id": "7-8cP6JzLwok",
        "outputId": "8e372d16-3b8b-4c91-c100-877124fca911",
        "colab": {
          "base_uri": "https://localhost:8080/",
          "height": 34
        }
      },
      "source": [
        "list_to_matrix(arr,5,4)"
      ],
      "execution_count": null,
      "outputs": [
        {
          "output_type": "execute_result",
          "data": {
            "application/vnd.google.colaboratory.intrinsic+json": {
              "type": "string"
            },
            "text/plain": [
              "'Uncompatible Shapes'"
            ]
          },
          "metadata": {
            "tags": []
          },
          "execution_count": 8
        }
      ]
    },
    {
      "cell_type": "markdown",
      "metadata": {
        "id": "_0FzjI4Li18J"
      },
      "source": [
        "## Q4: Longest Word in a File\n",
        "\n",
        "In the shared assignment folder, you have a file named `hamlet.txt` which stores the famous play written by William Shakespeare.\n",
        "\n",
        "Write a function named `longest_word` which will take a file name as it's single parameter and then reads and returns the longest word from that file.\n",
        "\n",
        "```py\n",
        ">>> longest_word(\"hamlet.txt\")\n",
        "```\n",
        "\n",
        "*Do not forget to add the shared file and then mount to your drive. Otherwise, you won't be able to read the file.*"
      ]
    },
    {
      "cell_type": "code",
      "metadata": {
        "id": "yiHs8lzVZ9Tr",
        "outputId": "0aba3fb0-6c39-4f6b-cfdd-def46ea9bb8f",
        "colab": {
          "base_uri": "https://localhost:8080/",
          "height": 32
        }
      },
      "source": [
        "from google.colab import drive\n",
        "drive.mount(\"./drive/\", force_remount=True)"
      ],
      "execution_count": null,
      "outputs": [
        {
          "output_type": "stream",
          "text": [
            "Mounted at ./drive/\n"
          ],
          "name": "stdout"
        }
      ]
    },
    {
      "cell_type": "code",
      "metadata": {
        "id": "DEQOU3viZAfj"
      },
      "source": [
        "from os.path import join \n",
        "\n",
        "path_prefix = \"./drive/My Drive/Colab Notebooks\"\n",
        "\n",
        "\n",
        "def longest_word(fname):\n",
        "  with open(join(path_prefix, fname), \"r\") as file:\n",
        "\n",
        "    longest_word = \"\"\n",
        "    \n",
        "  # reading each line     \n",
        "    for line in file: \n",
        "   \n",
        "        # reading each word         \n",
        "        for word in line.split(): \n",
        "\n",
        "            if len(word) > len(longest_word):\n",
        "              longest_word = word\n",
        "                    \n",
        "\n",
        "  print(len(longest_word))\n",
        "  print(longest_word) \n",
        "\n",
        "\n",
        "\n"
      ],
      "execution_count": null,
      "outputs": []
    },
    {
      "cell_type": "code",
      "metadata": {
        "id": "_-FqA5-zd37A",
        "outputId": "e745025c-ff87-463f-c370-e01ae0f73ae0",
        "colab": {
          "base_uri": "https://localhost:8080/",
          "height": 49
        }
      },
      "source": [
        "longest_word(\"hamlet.txt\")"
      ],
      "execution_count": null,
      "outputs": [
        {
          "output_type": "stream",
          "text": [
            "37\n",
            "tragical-comical-historical-pastoral;\n"
          ],
          "name": "stdout"
        }
      ]
    }
  ]
}