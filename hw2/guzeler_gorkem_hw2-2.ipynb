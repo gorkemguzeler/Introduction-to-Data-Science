{
  "nbformat": 4,
  "nbformat_minor": 0,
  "metadata": {
    "kernelspec": {
      "display_name": "Python 3",
      "language": "python",
      "name": "python3"
    },
    "language_info": {
      "codemirror_mode": {
        "name": "ipython",
        "version": 3
      },
      "file_extension": ".py",
      "mimetype": "text/x-python",
      "name": "python",
      "nbconvert_exporter": "python",
      "pygments_lexer": "ipython3",
      "version": "3.6.7"
    },
    "colab": {
      "name": "guzeler_gorkem_hw2",
      "provenance": [],
      "collapsed_sections": []
    }
  },
  "cells": [
    {
      "cell_type": "markdown",
      "metadata": {
        "id": "ldMgDPWh6KZJ"
      },
      "source": [
        "#Homework 2: Drug Side Effects\n",
        "\n",
        "*In the second homework, you are going to work with SIDER side effects dataset.*\n",
        "\n",
        "**Submission Instructions**\n",
        "\n",
        "---\n",
        "It is important that you follow the submission instructions. \n",
        "1. Copy this assignment notebook to your Drive. <font color = 'red'> `File` --> `Save a copy in Drive`</font>. Rename it as <font color = 'green'>`Lastname_Firstname_hw1`</font>.\n",
        "\n",
        "2. Write your solutions in the cells  marked <font color = 'green'>`# your code`</font>.\n",
        "\n",
        "3. Do not delete your outputs. They are essential for the grading. Make sure that cells containing your solutions are executed, and the results are displayed on the notebook.\n",
        "\n",
        "4. When you're done please submit your solutions as an <font color=\"red\">`.ipynb`</font> file. To do so:\n",
        "\n",
        "\n",
        "1.  Click on <font color=\"red\">`File`</font>  at the top left on the Colab screen, then click on <font color = 'red'>`Download .ipynb`</font>.\n",
        "2.   Then submit the downloaded <font color=\"red\">`.ipynb`</font> version of your work on SUCourse.\n",
        "\n",
        "\n",
        "For any question, you may send an email to the TAs and LAs.\n",
        "\n",
        "---"
      ]
    },
    {
      "cell_type": "markdown",
      "metadata": {
        "id": "pSp2PnhBSssR"
      },
      "source": [
        "In this homework, you will work on a dataset from [SIDER Side Effect Resource](http://sideeffects.embl.de/). SIDER contains information on marketed drugs and their recorded adverse drug reactions (ADR).\n",
        "\n",
        "For this homework, you will use the provided file `meddra_all_se.csv`. This is a modified and simplified version of the original dataset, which contains possible side effects of different drugs.\n",
        "<!-- This is not the original data file, we modified and eliminated some parts to make your work easier. -->\n",
        "\n",
        "As listed in their prospectives, drugs can cause some side effects besides their healing properties. This dataset simply contains entries of drugs and their potential side effects.\n",
        "\n",
        "In the dataset, each row has 4 attribute values separated with `,`. These attributes are described in the list below with their respective order in the dataset.\n",
        "\n",
        "\n",
        "  1.   **STITCH compound id:** Refers to ID of a particular drug \n",
        "\n",
        "  2.   **UMLS concept id:** Unified Medical Language System ID\n",
        "\n",
        "  3.   **UMLS concept id for MedDRA term** \n",
        "\n",
        "  4.   **Side effect name:** Contains the possible side effect entry.\n",
        "\n",
        "**You will consider the STITCH compound id as the id of a particular drug. Therefore, rows with the same STITCH compound id refer to possible side effects of the same particular drug.**\n",
        "\n",
        "A snapshot from the dataset containing three sample rows is also provided below.\n",
        "```\n",
        "...\n",
        "CID100000085,CID000010917,C0015230,Rash\n",
        "CID100000085,CID000010917,C0015397,Eye disorder\n",
        "CID100000085,CID000010917,C0015967,Body temperature increased\n",
        "\n",
        "...\n",
        "```\n",
        "\n",
        "*Do not forget to add the shared `meddra_all_se.csv` file to your drive and mount to your drive. Otherwise, you won't be able to read the file.*\n",
        "\n",
        "**!!!You are not allowed to use `pandas` in this homework**"
      ]
    },
    {
      "cell_type": "code",
      "metadata": {
        "id": "NQS682uLXZWr"
      },
      "source": [
        "import numpy as np\n",
        "import matplotlib.pyplot as plt\n",
        "from os.path import join\n",
        "import csv\n",
        "\n",
        "%matplotlib inline"
      ],
      "execution_count": null,
      "outputs": []
    },
    {
      "cell_type": "code",
      "metadata": {
        "id": "8VzWuGps4xl_",
        "outputId": "22480d13-71bc-4573-ec68-92c7cf185389",
        "colab": {
          "base_uri": "https://localhost:8080/"
        }
      },
      "source": [
        "from google.colab import drive\n",
        "drive.mount('./drive', force_remount=True)\n"
      ],
      "execution_count": null,
      "outputs": [
        {
          "output_type": "stream",
          "text": [
            "Mounted at ./drive\n"
          ],
          "name": "stdout"
        }
      ]
    },
    {
      "cell_type": "markdown",
      "metadata": {
        "id": "K6GWzFj_rQ5J"
      },
      "source": [
        "## Q1: Descriptive Statistics of the Dataset\n",
        "\n",
        "In this question, your task is to gather some descriptive information about the dataset. To do this, first read the provided dataset and store it in a 2 dimensional numpy array. Then, print the listed descriptive statistics about the dataset.\n",
        "\n",
        "*   Shape of the dataset, i.e. number of rows and columns\n",
        "*   Number of unique drugs \n",
        "*   Number of unique side effects"
      ]
    },
    {
      "cell_type": "code",
      "metadata": {
        "id": "cFE8GzXkH-NT",
        "outputId": "18ebc3d9-7ff7-4811-e309-cf4bfb14b85d",
        "colab": {
          "base_uri": "https://localhost:8080/"
        }
      },
      "source": [
        "path = \"./drive/My Drive/meddra.csv\"\n",
        "with open(path,\"r\") as f:\n",
        "  \n",
        "  data = np.loadtxt(f , delimiter = \",\" ,dtype = str )\n",
        "\n",
        "  new_arr = np.array(data)\n",
        "\n",
        "  drugs_data = np.delete(new_arr, obj= [1,2,3] , axis= 1)\n",
        "\n",
        "  side_effects_data = np.delete(new_arr, obj = [0,1,2] , axis = 1 )\n",
        "\n",
        "  unique_drugs = np.unique(drugs_data)\n",
        "\n",
        "  unique_side_effects = np.unique(side_effects_data)\n",
        "\n",
        "  print(\"Shape is: \" ,new_arr.shape)\n",
        "\n",
        "  print(\"Number of unique drugs: \" , len(unique_drugs) )\n",
        "  print(\"Number of side effects: \",  len(unique_side_effects))\n"
      ],
      "execution_count": null,
      "outputs": [
        {
          "output_type": "stream",
          "text": [
            "Shape is:  (91281, 4)\n",
            "Number of unique drugs:  953\n",
            "Number of side effects:  5068\n"
          ],
          "name": "stdout"
        }
      ]
    },
    {
      "cell_type": "markdown",
      "metadata": {
        "id": "QaM_N7VbvjNd"
      },
      "source": [
        "## Q2: Side Effects of Drugs"
      ]
    },
    {
      "cell_type": "markdown",
      "metadata": {
        "id": "rDTZdak-vBEF"
      },
      "source": [
        "### Part A \n",
        "\n",
        "As explained above, side effect entries in the dataset correspond to possible side effects of different drugs.\n",
        "\n",
        "In this part, your goal is to find the drug which has the most side effects in the dataset. <!-- Print the `drug id` *(STITCH compound id)* of that drug and `number of its indications`. --> Print the `drug id` *(STITCH compound id)* of that drug and print the number of possible side effects (indications) it has.\n",
        "\n",
        "Print your results in the following format.\n",
        "\n",
        "``` py\n",
        "drug id: CID100002771\n",
        "number of side effects: 766\n",
        "```\n",
        "\n",
        "\n"
      ]
    },
    {
      "cell_type": "code",
      "metadata": {
        "id": "HgNzsbgMvT_l",
        "outputId": "716a1641-2bdf-4dfd-84d2-30ba629b5403",
        "colab": {
          "base_uri": "https://localhost:8080/"
        }
      },
      "source": [
        "drugs_data = np.delete(new_arr, obj= [1,2,3] , axis= 1)\n",
        "\n",
        "unique_drugs_2 , number_of_side_effect = np.unique(drugs_data, return_counts= True )\n",
        "index_max = np.where(number_of_side_effect == max(number_of_side_effect))\n",
        "drug_id=unique_drugs_2[index_max]\n",
        "drug_id = drug_id[0]\n",
        "print(\"drug id:\",drug_id)\n",
        "print(\"number of side effects:\",max(number_of_side_effect))"
      ],
      "execution_count": null,
      "outputs": [
        {
          "output_type": "stream",
          "text": [
            "drug id: CID100002771\n",
            "number of side effects: 766\n"
          ],
          "name": "stdout"
        }
      ]
    },
    {
      "cell_type": "markdown",
      "metadata": {
        "id": "QB1vuzhZp1xt"
      },
      "source": [
        "### Part B \n",
        "\n",
        "Now, find the number of side effects for all drugs and display its distribution as an histogram.\n",
        "\n",
        "An exemplary figure can be observed below.\n",
        "\n",
        "![](https://i.ibb.co/7zPSnkR/hist.jpg)\n",
        "\n"
      ]
    },
    {
      "cell_type": "code",
      "metadata": {
        "id": "gByAdVaJvUz8",
        "outputId": "6488fd20-be9b-482d-e9fc-5fd4a833f9a2",
        "colab": {
          "base_uri": "https://localhost:8080/",
          "height": 294
        }
      },
      "source": [
        "drugs_data = np.delete(new_arr, obj= [1,2,3] , axis= 1)\n",
        "unique_drugs_3 , number_of_side_effect = np.unique(drugs_data, return_counts= True )\n",
        "#zipped_form = np.array(list(zip(unique_drugs_3, number_of_side_effect)))\n",
        "#print(zipped_form)\n",
        "x = number_of_side_effect  # normal dist. with mean set to 10 and standard deviation to 5\n",
        "\n",
        "plt.hist(x, bins=25)\n",
        "plt.xlabel(\"Number of Side Effects\")\n",
        "plt.ylabel(\"Frequency\")\n",
        "plt.title(\"The Number of Side Effects per Drug\")\n",
        "\n",
        "plt.show()"
      ],
      "execution_count": null,
      "outputs": [
        {
          "output_type": "display_data",
          "data": {
            "image/png": "[encoded data removed]",
            "text/plain": [
              "<Figure size 432x288 with 1 Axes>"
            ]
          },
          "metadata": {
            "tags": [],
            "needs_background": "light"
          }
        }
      ]
    },
    {
      "cell_type": "markdown",
      "metadata": {
        "id": "0M6JfX5cp7Zv"
      },
      "source": [
        "## Q3: The Most Frequent Side Effects\n",
        "\n",
        "Here, you are going to analyze side effects that can be more commonly caused by drugs. \n",
        "\n",
        "Since we have a dataset of drugs and their potential side effects, one of the first question that comes to mind is to see the most common side effects of these drugs.\n",
        "\n",
        "*   Plot a `bar chart` to show most frequent 15 side effects of the dataset.\n",
        "\n",
        "![](https://i.ibb.co/Y8nQr3p/barh.jpg)\n",
        "\n",
        "*You can choose to make the bar chart with a different style, but the bars should look like the chart above.* \n"
      ]
    },
    {
      "cell_type": "code",
      "metadata": {
        "id": "prRpUH5bgSNi",
        "outputId": "3ea60423-8f51-45b9-8c39-d52534931bed",
        "colab": {
          "base_uri": "https://localhost:8080/",
          "height": 294
        }
      },
      "source": [
        "u_side_effects = np.delete(new_arr, obj= [0,1,2] , axis= 1)\n",
        "unique_side_effects , frequency_of_side_effect = np.unique(u_side_effects, return_counts= True )\n",
        "\n",
        "values = frequency_of_side_effect\n",
        "categories = unique_side_effects\n",
        "\n",
        "categories = categories[values.argsort()]\n",
        "values = np.sort(values)\n",
        "\n",
        "values = values[-15:]\n",
        "values = values[: : -1]\n",
        "categories =categories[-15:]\n",
        "categories = categories[: : -1]\n",
        "\n",
        "plt.barh(categories, values)\n",
        "\n",
        "plt.xlim([0, values.max()+10])\n",
        "plt.xlabel(\"Frequency\")\n",
        "plt.ylabel(\"Side Effects\")\n",
        "plt.title(\"Top 15 Most Frequent Side Effects\")\n",
        "\n",
        "plt.show()\n"
      ],
      "execution_count": null,
      "outputs": [
        {
          "output_type": "display_data",
          "data": {
            "image/png": "[encoded data removed]",
            "text/plain": [
              "<Figure size 432x288 with 1 Axes>"
            ]
          },
          "metadata": {
            "tags": [],
            "needs_background": "light"
          }
        }
      ]
    },
    {
      "cell_type": "markdown",
      "metadata": {
        "id": "cpic0BLlp95Z"
      },
      "source": [
        "## Q4: Conditional Probability\n",
        "\n",
        "In Probability Theory, conditional probability is a measure of the probability of an event occurring, given that another event has already occurred. The formula for the conditional probability is shared below.\n",
        "\n",
        "```\n",
        "P(B|A) = P(A and B) / P(A)\n",
        "```\n",
        "\n",
        "As also suggested by our dataset, drugs can have multiple side effects. With the conditional probability, we can study the chances of a particular side effect with a given presence of another one.\n",
        "\n",
        "So, the following question can be answered with our dataset. \n",
        "\n",
        "**If a drug has `Headache` side effect, what is the probability it also has `Vomiting` side effect?**\n",
        "\n",
        "Please calculate this conditional probability from the dataset and report the resulting probability score."
      ]
    },
    {
      "cell_type": "code",
      "metadata": {
        "id": "a26lkrlt27qr",
        "outputId": "61a7f37f-442e-49da-f1fb-a60686dd0cc9",
        "colab": {
          "base_uri": "https://localhost:8080/"
        }
      },
      "source": [
        "#we need to find p(Headache and Vomiting)/p(Headache)\n",
        "\n",
        "p_headache =  values[1]\n",
        "p_h_and_v = 0\n",
        "drug_list = []\n",
        "\n",
        "relation = np.delete(new_arr, obj= [1,2] , axis= 1)\n",
        "for i in relation:\n",
        "  if i[1] == 'Headache':\n",
        "    drug_list.append(i[0])\n",
        "\n",
        "for i in drug_list:\n",
        "  for m in relation:\n",
        "    if m[0] == i:\n",
        "      if m[1] == 'Vomiting':\n",
        "        p_h_and_v = p_h_and_v + 1\n",
        "\n",
        "print(\"P(Headache and Vomiting)/p(Headache):\" ,p_h_and_v/p_headache)"
      ],
      "execution_count": null,
      "outputs": [
        {
          "output_type": "stream",
          "text": [
            "P(Headache and Vomiting)/p(Headache): 0.8398914518317503\n"
          ],
          "name": "stdout"
        }
      ]
    }
  ]
}